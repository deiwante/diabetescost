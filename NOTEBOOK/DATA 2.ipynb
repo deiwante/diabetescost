{
 "cells": [
  {
   "cell_type": "code",
   "execution_count": null,
   "id": "6f5e0705",
   "metadata": {},
   "outputs": [],
   "source": []
  },
  {
   "cell_type": "code",
   "execution_count": null,
   "id": "0b89317a",
   "metadata": {},
   "outputs": [],
   "source": [
    "import pandas as pd\n",
    "import matplotlib.pyplot as plt\n",
    "import seaborn as sns\n",
    "import numpy as np\n",
    "\n",
    "df = pd.read_csv(r'C:\\Users\\etsus\\Desktop\\IRONHACK\\Project 4 SQL\\raw\\IDFINSURANCE.csv')\n",
    "df.head(150)\n",
    "new_df = df.copy()\n",
    "new_df.columns\n",
    "new_df = new_df.drop(['2030','#','2045', 'Type'], axis=1).reset_index()\n",
    "new_df.head()"
   ]
  },
  {
   "cell_type": "code",
   "execution_count": null,
   "id": "19cf2df7",
   "metadata": {},
   "outputs": [],
   "source": [
    "#new_df.to_sql('diabetescost', con=engine, index=False, if_exists='replace')"
   ]
  },
  {
   "cell_type": "code",
   "execution_count": null,
   "id": "c104d04c",
   "metadata": {},
   "outputs": [],
   "source": [
    "\n",
    "usa_data = new_df[new_df['Country/Territory'] == 'United States of America']\n",
    "plt.figure(figsize=(10, 6))\n",
    "\n",
    "plt.subplot(1, 2, 1)\n",
    "sns.histplot(data=usa_data, x='2011', kde=True)\n",
    "plt.title('Distribution of Data in 2011')\n",
    "plt.xlabel('2011')\n",
    "plt.ylabel('Frequency')\n",
    "\n",
    "\n",
    "plt.subplot(1, 2, 2)\n",
    "sns.histplot(data=usa_data, x='2021', kde=True)\n",
    "plt.title('Distribution of Data in 2021')\n",
    "plt.xlabel('2021')\n",
    "plt.ylabel('Frequency')\n",
    "\n",
    "plt.tight_layout()\n",
    "plt.show()\n"
   ]
  },
  {
   "cell_type": "code",
   "execution_count": null,
   "id": "446a7892",
   "metadata": {},
   "outputs": [],
   "source": [
    "\n",
    "new_df['2011'] = new_df['2011'].replace(',', '', regex=True).replace('-', np.nan).astype(float)\n",
    "new_df['2021'] = new_df['2021'].replace(',', '', regex=True).replace('-', np.nan).astype(float)\n",
    "\n",
    "\n",
    "countries_of_interest = ['United States of America', 'Luxembourg', 'Norway', 'Switzerland', 'Monaco']\n",
    "countries_data = new_df[new_df['Country/Territory'].isin(countries_of_interest)]\n",
    "\n",
    "\n",
    "mean_values_2011 = countries_data.groupby('Country/Territory')['2011'].mean().reset_index()\n",
    "mean_values_2021 = countries_data.groupby('Country/Territory')['2021'].mean().reset_index()\n",
    "\n",
    "\n",
    "mean_values_2011 = mean_values_2011.sort_values(by='2011', ascending=False)\n",
    "mean_values_2021 = mean_values_2021.sort_values(by='2021', ascending=False)\n",
    "\n",
    "\n",
    "custom_palette = {'United States of America': '#E53643', 'Luxembourg': '#CFE1E8', 'Norway': '#CFE1E8', 'Switzerland': '#CFE1E8', 'Monaco': '#CFE1E8'}\n",
    "\n",
    "\n",
    "plt.figure(figsize=(10, 6))\n",
    "\n",
    "\n",
    "plt.subplot(1, 2, 1)\n",
    "sns.barplot(data=mean_values_2011, x='2011', y='Country/Territory', palette=custom_palette, order=mean_values_2011['Country/Territory'])\n",
    "plt.title('Diabetes-related health expenditure p.p., USD in 2011')\n",
    "plt.xlabel('2011')\n",
    "plt.ylabel('Country')\n",
    "\n",
    "plt.subplot(1, 2, 2)\n",
    "sns.barplot(data=mean_values_2021, x='2021', y='Country/Territory', palette=custom_palette, order=mean_values_2021['Country/Territory'])\n",
    "plt.title('in 2021')\n",
    "plt.xlabel('2021')\n",
    "plt.ylabel('Country')\n",
    "\n",
    "plt.tight_layout()\n",
    "plt.show()"
   ]
  },
  {
   "cell_type": "code",
   "execution_count": null,
   "id": "b3003d94",
   "metadata": {},
   "outputs": [],
   "source": []
  }
 ],
 "metadata": {
  "kernelspec": {
   "display_name": "Python 3 (ipykernel)",
   "language": "python",
   "name": "python3"
  },
  "language_info": {
   "codemirror_mode": {
    "name": "ipython",
    "version": 3
   },
   "file_extension": ".py",
   "mimetype": "text/x-python",
   "name": "python",
   "nbconvert_exporter": "python",
   "pygments_lexer": "ipython3",
   "version": "3.11.5"
  }
 },
 "nbformat": 4,
 "nbformat_minor": 5
}
